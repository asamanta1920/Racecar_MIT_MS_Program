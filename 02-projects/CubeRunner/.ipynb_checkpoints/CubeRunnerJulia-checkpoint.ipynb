{
 "cells": [
  {
   "cell_type": "code",
   "execution_count": 8,
   "metadata": {},
   "outputs": [
    {
     "ename": "ArgumentError",
     "evalue": "ArgumentError: Package random not found in current path:\n- Run `import Pkg; Pkg.add(\"random\")` to install the random package.\n",
     "output_type": "error",
     "traceback": [
      "ArgumentError: Package random not found in current path:\n- Run `import Pkg; Pkg.add(\"random\")` to install the random package.\n",
      "",
      "Stacktrace:",
      " [1] require(::Module, ::Symbol) at ./loading.jl:876",
      " [2] top-level scope at In[8]:1"
     ]
    }
   ],
   "source": [
    "using random\n",
    "using importlib\n",
    "\n",
    "function updateScore(score)\n",
    "    return score + 1\n",
    "end\n",
    "\n",
    "function prettyPrint(cubes, player, score, gridSize=5)\n",
    "    # Not sure how to do this.\n",
    "end\n",
    "\n",
    "function reload()\n",
    "    # Is there a library called cubegame\n",
    "end"
   ]
  },
  {
   "cell_type": "code",
   "execution_count": null,
   "metadata": {},
   "outputs": [],
   "source": [
    "function updateCubes(cubes)\n",
    "   num2 = []\n",
    "end"
   ]
  }
 ],
 "metadata": {
  "kernelspec": {
   "display_name": "Julia 1.2.0",
   "language": "julia",
   "name": "julia-1.2"
  },
  "language_info": {
   "file_extension": ".jl",
   "mimetype": "application/julia",
   "name": "julia",
   "version": "1.2.0"
  }
 },
 "nbformat": 4,
 "nbformat_minor": 2
}
