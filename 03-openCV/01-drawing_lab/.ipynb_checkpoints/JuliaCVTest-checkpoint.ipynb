{
 "cells": [
  {
   "cell_type": "code",
   "execution_count": 8,
   "metadata": {},
   "outputs": [],
   "source": [
    "using Images, TestImages"
   ]
  },
  {
   "cell_type": "code",
   "execution_count": 20,
   "metadata": {},
   "outputs": [
    {
     "ename": "UndefVarError",
     "evalue": "UndefVarError: Image not defined",
     "output_type": "error",
     "traceback": [
      "UndefVarError: Image not defined",
      "",
      "Stacktrace:",
      " [1] getproperty(::Module, ::Symbol) at ./Base.jl:13",
      " [2] top-level scope at In[20]:2"
     ]
    }
   ],
   "source": [
    "img = testimage(\"mandrill\")\n",
    "imhsv = convert(Image{HSV}, img)"
   ]
  },
  {
   "cell_type": "code",
   "execution_count": null,
   "metadata": {},
   "outputs": [],
   "source": []
  }
 ],
 "metadata": {
  "kernelspec": {
   "display_name": "Julia 1.3.0",
   "language": "julia",
   "name": "julia-1.3"
  },
  "language_info": {
   "file_extension": ".jl",
   "mimetype": "application/julia",
   "name": "julia",
   "version": "1.3.0"
  }
 },
 "nbformat": 4,
 "nbformat_minor": 2
}
