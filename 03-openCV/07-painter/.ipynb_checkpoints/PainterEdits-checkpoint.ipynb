{
 "cells": [
  {
   "cell_type": "code",
   "execution_count": 1,
   "metadata": {},
   "outputs": [],
   "source": [
    "# FIRST import all the necessary libraries and modules!\n",
    "import cv2               # import OpenCV\n",
    "import numpy as np       # import NumPy\n",
    "\n",
    "# import instructor made functions \n",
    "import sys\n",
    "sys.path.insert(0, '../..')\n",
    "from utils import *      "
   ]
  },
  {
   "cell_type": "markdown",
   "metadata": {},
   "source": [
    "# Painter Lab\n",
    "\n",
    "<p style='font-size:1.75rem;line-height:1.5'>\n",
    "    Let's learn how to <b style=\"color:magenta\">paint on live video</b> using colored objects! \n",
    "    <br>To do this, we will need to combine everything we've learned so far: <b style=\"color:blue\">drawing</b>, <b style=\"color:green\">color tracking</b>, and <b style=\"color:orange\">contours</b>!\n",
    "</p>\n",
    "\n",
    "![multiple draw](multiple_draw.png)"
   ]
  },
  {
   "cell_type": "markdown",
   "metadata": {},
   "source": [
    "# HSV Masking\n",
    "    \n",
    "<p style='font-size:1.75rem;line-height:1.5'>\n",
    "    <b style=\"color:#072F5F\">H</b><b style=\"color:#3895D3\">S</b><b style=\"color:#58CCED\">V</b> tends to be better for tracking an object by color than <b style=\"color:blue\">B</b><b style=\"color:green\">G</b><b style=\"color:red\">R</b>. \n",
    "    <br> Do you remember why this is? <b>Discuss with your partner!</b>\n",
    "    </p>\n",
    "<p style='font-size:1.75rem;line-height:1.5'>\n",
    "    We can mask video frames using lower and upper bounds for <b style=\"color:#072F5F\">hue (H)</b>, <b style=\"color:#3895D3\">saturation (S)</b>, and <b style=\"color:#58CCED\">value (V)</b> to track objects by their color.\n",
    "    </p>\n",
    "\n",
    "![HSV](hsv.png)"
   ]
  },
  {
   "cell_type": "markdown",
   "metadata": {},
   "source": [
    "# Isolating Objects\n",
    "\n",
    "<p style='font-size:1.75rem;line-height:1.5'>\n",
    "    First, we need to <b style=\"color:green\">detect the colored objects</b> we will be drawing with! \n",
    "    </p>\n",
    "\n",
    "<p style='font-size:1.75rem;line-height:1.5'>\n",
    "    Here is an example of a <b style=\"color:green\">GOOD MASK</b>:\n",
    "    </p>\n",
    "\n",
    "![hsv_good_example](hsv_good_example.png)\n",
    "\n",
    "<p style='font-size:1.75rem;line-height:1.5'>\n",
    "    Here is an example of a <b style=\"color:blue\">BAD MASK</b>:\n",
    "    </p>\n",
    "\n",
    "<img src=\"bad_mask.jpg\" width=\"350\" height=\"450\"/>\n",
    "\n",
    "<p style='font-size:1.75rem;line-height:1.5'>\n",
    "    <b style=\"color:red\">Exercise:</b>\n",
    "    <ul style='font-size:1.75rem;line-height:2'>\n",
    "        <li>For <b>EACH colored object</b>, use <code>hsv_select_live()</code> to <b>select HSV upper/lower bounds</b> so that only the object's color is visible. Everything else should be MASKED/BLACK. </li>\n",
    "        <li>Once you have good HSV limits, <b>write them down</b>! We will need them later.</li>\n",
    "        <li><b>Make sure that you have a webcam connected to your laptop!</b></li>\n",
    "    </ul>\n",
    "    </p>\n",
    "    "
   ]
  },
  {
   "cell_type": "code",
   "execution_count": null,
   "metadata": {},
   "outputs": [],
   "source": [
    "hsv_select_live()"
   ]
  },
  {
   "cell_type": "markdown",
   "metadata": {},
   "source": [
    "# Masking the Video\n",
    "\n",
    "<p style='font-size:1.75rem;line-height:1.5'>\n",
    "    <b style=\"color:red\">Exercise:</b>\n",
    "    <br> Let's create a function that <b style=\"color:green\">returns a masked frame</b> using input HSV values:\n",
    "    <ol style='font-size:1.75rem;line-height:2'>\n",
    "        <li><b>Convert our frames</b> from <b style=\"color:blue\">B</b><b style=\"color:green\">G</b><b style=\"color:red\">R</b> to <b style=\"color:#072F5F\">H</b><b style=\"color:#3895D3\">S</b><b style=\"color:#58CCED\">V</b> via <code>cv2.cvtColor</code></li>\n",
    "        <li>Use <code>cv2.inRange</code> to <b>create a mask</b> using the given inputs\n",
    "    </ol>\n",
    "    </p>"
   ]
  },
  {
   "cell_type": "code",
   "execution_count": 2,
   "metadata": {},
   "outputs": [],
   "source": [
    "def mask_frame(frame, hsv_lower, hsv_upper):\n",
    "    # TASK #1: Convert \"frame\" to from BGR to HSV using cv2.cvtColor\n",
    "    \n",
    "    frame_hsv = cv2.cvtColor(frame, cv2.COLOR_BGR2HSV)\n",
    "    \n",
    "    # TASK #2: Mask the frame using cv2.inRange, with \"hsv_lower\" and \"hsv_upper\" as inputs\n",
    "    # Assume hsv_lower and hsv_upper are the correct data types!\n",
    "    \n",
    "    mask_frame = cv2.inRange(frame_hsv, hsv_lower, hsv_upper)\n",
    "    \n",
    "    # TASK #3: Return the mask\n",
    "    \n",
    "    return mask_frame\n",
    "    "
   ]
  },
  {
   "cell_type": "markdown",
   "metadata": {},
   "source": [
    "<p style='font-size:1.75rem;line-height:1.5'>\n",
    "    <b style=\"color:red\">Exercise:</b>\n",
    "    <br>Let's <b style=\"color:green\">test our mask</b> on a colored object! \n",
    "    <br>Set <code>hsv_lower</code> and <code>hsv_upper</code> <b>using the values you recorded</b> for one of your colored objects.\n",
    "    </p>"
   ]
  },
  {
   "cell_type": "code",
   "execution_count": 3,
   "metadata": {},
   "outputs": [],
   "source": [
    "# TASK: Define the color ranges for your object\n",
    "hsv_lower = (45, 95, 19)    # Replace NONE with integers!\n",
    "hsv_upper = (59, 242, 237)    # Replace NONE with integers!"
   ]
  },
  {
   "cell_type": "markdown",
   "metadata": {},
   "source": [
    "<p style='font-size:1.75rem;line-height:1.5'>\n",
    "    <b style=\"color:red\">Run the code below</b> to see your mask work in real time!\n",
    "    </p>\n",
    "    \n",
    "<p style='font-size:1.75rem;line-height:1.5'>\n",
    "    It should look something like this:\n",
    "    </p>\n",
    "\n",
    "![mask](mask.png)"
   ]
  },
  {
   "cell_type": "code",
   "execution_count": 10,
   "metadata": {},
   "outputs": [
    {
     "ename": "KeyboardInterrupt",
     "evalue": "",
     "output_type": "error",
     "traceback": [
      "\u001b[0;31m---------------------------------------------------------------------------\u001b[0m",
      "\u001b[0;31mKeyboardInterrupt\u001b[0m                         Traceback (most recent call last)",
      "\u001b[0;32m<ipython-input-10-871592dbe921>\u001b[0m in \u001b[0;36m<module>\u001b[0;34m()\u001b[0m\n\u001b[1;32m      3\u001b[0m     \u001b[0mcv2\u001b[0m\u001b[0;34m.\u001b[0m\u001b[0mimshow\u001b[0m\u001b[0;34m(\u001b[0m\u001b[0;34m'Mask'\u001b[0m\u001b[0;34m,\u001b[0m \u001b[0mmask\u001b[0m\u001b[0;34m)\u001b[0m                        \u001b[0;31m# displays the mask\u001b[0m\u001b[0;34m\u001b[0m\u001b[0m\n\u001b[1;32m      4\u001b[0m \u001b[0;34m\u001b[0m\u001b[0m\n\u001b[0;32m----> 5\u001b[0;31m \u001b[0mvideo\u001b[0m\u001b[0;34m(\u001b[0m\u001b[0mshow_mask\u001b[0m\u001b[0;34m)\u001b[0m\u001b[0;34m\u001b[0m\u001b[0m\n\u001b[0m",
      "\u001b[0;32m/Users/adrita/Documents/online-labs-master/utils.pyc\u001b[0m in \u001b[0;36mvideo\u001b[0;34m(function)\u001b[0m\n\u001b[1;32m     36\u001b[0m     \u001b[0;34m'''Displays video with modifiable frames.'''\u001b[0m\u001b[0;34m\u001b[0m\u001b[0m\n\u001b[1;32m     37\u001b[0m     \u001b[0mvideo\u001b[0m \u001b[0;34m=\u001b[0m \u001b[0mcv2\u001b[0m\u001b[0;34m.\u001b[0m\u001b[0mVideoCapture\u001b[0m\u001b[0;34m(\u001b[0m\u001b[0mvideo_port\u001b[0m\u001b[0;34m)\u001b[0m\u001b[0;34m\u001b[0m\u001b[0m\n\u001b[0;32m---> 38\u001b[0;31m     \u001b[0;32mwhile\u001b[0m \u001b[0mcv2\u001b[0m\u001b[0;34m.\u001b[0m\u001b[0mwaitKey\u001b[0m\u001b[0;34m(\u001b[0m\u001b[0;36m200\u001b[0m\u001b[0;34m)\u001b[0m \u001b[0;34m&\u001b[0m \u001b[0;36m0xFF\u001b[0m \u001b[0;34m!=\u001b[0m \u001b[0;36m27\u001b[0m\u001b[0;34m:\u001b[0m\u001b[0;34m\u001b[0m\u001b[0m\n\u001b[0m\u001b[1;32m     39\u001b[0m         \u001b[0mframe\u001b[0m \u001b[0;34m=\u001b[0m \u001b[0mvideo\u001b[0m\u001b[0;34m.\u001b[0m\u001b[0mread\u001b[0m\u001b[0;34m(\u001b[0m\u001b[0;34m)\u001b[0m\u001b[0;34m[\u001b[0m\u001b[0;36m1\u001b[0m\u001b[0;34m]\u001b[0m\u001b[0;34m\u001b[0m\u001b[0m\n\u001b[1;32m     40\u001b[0m         \u001b[0;32mif\u001b[0m \u001b[0mframe\u001b[0m \u001b[0;32mis\u001b[0m \u001b[0;32mnot\u001b[0m \u001b[0mNone\u001b[0m\u001b[0;34m:\u001b[0m\u001b[0;34m\u001b[0m\u001b[0m\n",
      "\u001b[0;31mKeyboardInterrupt\u001b[0m: "
     ]
    }
   ],
   "source": [
    "def show_mask(frame):\n",
    "    mask = mask_frame(frame, hsv_lower, hsv_upper)  # calculates the mask\n",
    "    cv2.imshow('Mask', mask)                        # displays the mask\n",
    "\n",
    "video(show_mask)"
   ]
  },
  {
   "cell_type": "markdown",
   "metadata": {},
   "source": [
    "# Finding Contours\n",
    "\n",
    "<p style='font-size:1.75rem;line-height:1.5'>\n",
    "    We can <b style=\"color:green\">track the location of your colored object</b> using contours. \n",
    "    <br>We can calculate a list of contours based on a given mask like this:\n",
    "    </p>\n",
    "\n",
    "```python\n",
    "contours = cv2.findContours(mask, 3, 2)[1]\n",
    "```\n",
    "\n",
    "<p style='font-size:1.75rem;line-height:1.5'>\n",
    "    <b style=\"color:red\">Exercise:</b>\n",
    "    <br>In the function below, find and return the <b>list of all contours</b>.\n",
    "    </p>"
   ]
  },
  {
   "cell_type": "code",
   "execution_count": 4,
   "metadata": {},
   "outputs": [],
   "source": [
    "def find_contours(mask):\n",
    "    # TASK #1: Find all contours\n",
    "    \n",
    "    contours1 = cv2.findContours(mask, 3, 2)[1]\n",
    "    \n",
    "    # TASK #2: Return the list of contours\n",
    "    \n",
    "    return contours1\n",
    "    "
   ]
  },
  {
   "cell_type": "markdown",
   "metadata": {},
   "source": [
    "<p style='font-size:1.75rem;line-height:1.5'>\n",
    "    <b style=\"color:red\">Run the code block below</b> to see your contours drawn on the frame!\n",
    "    </p>\n",
    "\n",
    "<p style='font-size:1.75rem;line-height:1.5'>\n",
    "    It should look similar to this:\n",
    "    </p>\n",
    "\n",
    "![contours](contours.png)"
   ]
  },
  {
   "cell_type": "code",
   "execution_count": 5,
   "metadata": {},
   "outputs": [
    {
     "ename": "KeyboardInterrupt",
     "evalue": "",
     "output_type": "error",
     "traceback": [
      "\u001b[0;31m---------------------------------------------------------------------------\u001b[0m",
      "\u001b[0;31mKeyboardInterrupt\u001b[0m                         Traceback (most recent call last)",
      "\u001b[0;32m<ipython-input-5-6d6ee145162e>\u001b[0m in \u001b[0;36m<module>\u001b[0;34m()\u001b[0m\n\u001b[1;32m      5\u001b[0m     \u001b[0mcv2\u001b[0m\u001b[0;34m.\u001b[0m\u001b[0mimshow\u001b[0m\u001b[0;34m(\u001b[0m\u001b[0;34m'Contours'\u001b[0m\u001b[0;34m,\u001b[0m \u001b[0mframe\u001b[0m\u001b[0;34m)\u001b[0m\u001b[0;34m\u001b[0m\u001b[0m\n\u001b[1;32m      6\u001b[0m \u001b[0;34m\u001b[0m\u001b[0m\n\u001b[0;32m----> 7\u001b[0;31m \u001b[0mvideo\u001b[0m\u001b[0;34m(\u001b[0m\u001b[0mshow_contours\u001b[0m\u001b[0;34m)\u001b[0m\u001b[0;34m\u001b[0m\u001b[0m\n\u001b[0m",
      "\u001b[0;32m/Users/adrita/Documents/Racecar_MIT_MS_Program/utils.pyc\u001b[0m in \u001b[0;36mvideo\u001b[0;34m(function)\u001b[0m\n\u001b[1;32m     36\u001b[0m     \u001b[0;34m'''Displays video with modifiable frames.'''\u001b[0m\u001b[0;34m\u001b[0m\u001b[0m\n\u001b[1;32m     37\u001b[0m     \u001b[0mvideo\u001b[0m \u001b[0;34m=\u001b[0m \u001b[0mcv2\u001b[0m\u001b[0;34m.\u001b[0m\u001b[0mVideoCapture\u001b[0m\u001b[0;34m(\u001b[0m\u001b[0mvideo_port\u001b[0m\u001b[0;34m)\u001b[0m\u001b[0;34m\u001b[0m\u001b[0m\n\u001b[0;32m---> 38\u001b[0;31m     \u001b[0;32mwhile\u001b[0m \u001b[0mcv2\u001b[0m\u001b[0;34m.\u001b[0m\u001b[0mwaitKey\u001b[0m\u001b[0;34m(\u001b[0m\u001b[0;36m200\u001b[0m\u001b[0;34m)\u001b[0m \u001b[0;34m&\u001b[0m \u001b[0;36m0xFF\u001b[0m \u001b[0;34m!=\u001b[0m \u001b[0;36m27\u001b[0m\u001b[0;34m:\u001b[0m\u001b[0;34m\u001b[0m\u001b[0m\n\u001b[0m\u001b[1;32m     39\u001b[0m         \u001b[0mframe\u001b[0m \u001b[0;34m=\u001b[0m \u001b[0mvideo\u001b[0m\u001b[0;34m.\u001b[0m\u001b[0mread\u001b[0m\u001b[0;34m(\u001b[0m\u001b[0;34m)\u001b[0m\u001b[0;34m[\u001b[0m\u001b[0;36m1\u001b[0m\u001b[0;34m]\u001b[0m\u001b[0;34m\u001b[0m\u001b[0m\n\u001b[1;32m     40\u001b[0m         \u001b[0;32mif\u001b[0m \u001b[0mframe\u001b[0m \u001b[0;32mis\u001b[0m \u001b[0;32mnot\u001b[0m \u001b[0mNone\u001b[0m\u001b[0;34m:\u001b[0m\u001b[0;34m\u001b[0m\u001b[0m\n",
      "\u001b[0;31mKeyboardInterrupt\u001b[0m: "
     ]
    }
   ],
   "source": [
    "def show_contours(frame):\n",
    "    mask = mask_frame(frame, hsv_lower, hsv_upper)             # calculates the mask\n",
    "    contours = find_contours(mask)                         # finds the contours\n",
    "    cv2.drawContours(frame, contours, -1, (0, 255, 0), 3)  # draw contours over the frame\n",
    "    cv2.imshow('Contours', frame)\n",
    "\n",
    "video(show_contours)"
   ]
  },
  {
   "cell_type": "markdown",
   "metadata": {},
   "source": [
    "# Isolating Object Contour"
   ]
  },
  {
   "cell_type": "markdown",
   "metadata": {},
   "source": [
    "<p style='font-size:1.75rem;line-height:1.5'>\n",
    "    As you can see, there are <b>extra contours :(</b> \n",
    "    <br> <b style=\"color:green\">We just want ONE contour</b> for our colored object! \n",
    "    </p>\n",
    "\n",
    "<p style='font-size:1.75rem;line-height:1.5'>\n",
    "    Let's only consider contours with area <b>larger than <code>1000</code> pixels.</b> \n",
    "    <br>We can find the <b style=\"color:green\">area of a single contour</b> like this:\n",
    "    </p>\n",
    "\n",
    "```python\n",
    "area = cv2.contourArea(contour)\n",
    "```\n",
    "\n",
    "<p style='font-size:1.75rem;line-height:1.5'>\n",
    "    <b style=\"color:red\">Exercise:</b>\n",
    "    <br>Fill in the function below to return only contours larger than 1000 pixels:\n",
    "    <ul style='font-size:1.75rem;line-height:2'>\n",
    "        <li><b>Consider the largest contour</b> with an area greater than <code>1000</code> to be our object contour.</li>\n",
    "        <li>If there is <b>no such contour</b>, return <code>None</code>.</li>\n",
    "    </ul>\n",
    "    </p>"
   ]
  },
  {
   "cell_type": "code",
   "execution_count": 6,
   "metadata": {},
   "outputs": [],
   "source": [
    "def object_contour(mask):\n",
    "    contours = find_contours(mask)  # finds and saves all the contours\n",
    "    obj_contour = None              # keeps track of object contour (if unchanged, function will return None)\n",
    "    max_area = 0                    # keeps track of maximum area\n",
    "    \n",
    "    if len(contours) > 0:\n",
    "        for contour in contours:\n",
    "            # TASK #1: Find and save the area using cv2.contourArea\n",
    "            \n",
    "            contour_area = cv2.contourArea(contour)\n",
    "            \n",
    "            # TASK #2: If area is larger than 1000 AND area is larger than max_area,\n",
    "            # save the current contour in obj_contour, and update max_area\n",
    "            \n",
    "            if contour_area > 1000 and contour_area > max_area:\n",
    "                obj_contour = contour\n",
    "                max_area = contour_area\n",
    "    \n",
    "    # TASK #3: Return the object contour\n",
    "    \n",
    "    return obj_contour\n",
    "    "
   ]
  },
  {
   "cell_type": "markdown",
   "metadata": {},
   "source": [
    "<p style='font-size:1.75rem;line-height:1.5'>\n",
    "    <b style=\"color:red\"> Run the code below</b> to display this contour!\n",
    "<p>\n",
    "    \n",
    "<p style='font-size:1.75rem;line-height:1.5'>\n",
    "    It should look similar to this:\n",
    "<p>\n",
    "    \n",
    "![object contour](obj_contour.png)"
   ]
  },
  {
   "cell_type": "code",
   "execution_count": 7,
   "metadata": {},
   "outputs": [
    {
     "ename": "KeyboardInterrupt",
     "evalue": "",
     "output_type": "error",
     "traceback": [
      "\u001b[0;31m---------------------------------------------------------------------------\u001b[0m",
      "\u001b[0;31mKeyboardInterrupt\u001b[0m                         Traceback (most recent call last)",
      "\u001b[0;32m<ipython-input-7-7f6a95b29c72>\u001b[0m in \u001b[0;36m<module>\u001b[0;34m()\u001b[0m\n\u001b[1;32m      6\u001b[0m     \u001b[0mcv2\u001b[0m\u001b[0;34m.\u001b[0m\u001b[0mimshow\u001b[0m\u001b[0;34m(\u001b[0m\u001b[0;34m'Object Contour'\u001b[0m\u001b[0;34m,\u001b[0m \u001b[0mframe\u001b[0m\u001b[0;34m)\u001b[0m\u001b[0;34m\u001b[0m\u001b[0m\n\u001b[1;32m      7\u001b[0m \u001b[0;34m\u001b[0m\u001b[0m\n\u001b[0;32m----> 8\u001b[0;31m \u001b[0mvideo\u001b[0m\u001b[0;34m(\u001b[0m\u001b[0mshow_object_contour\u001b[0m\u001b[0;34m)\u001b[0m\u001b[0;34m\u001b[0m\u001b[0m\n\u001b[0m",
      "\u001b[0;32m/Users/adrita/Documents/Racecar_MIT_MS_Program/utils.pyc\u001b[0m in \u001b[0;36mvideo\u001b[0;34m(function)\u001b[0m\n\u001b[1;32m     36\u001b[0m     \u001b[0;34m'''Displays video with modifiable frames.'''\u001b[0m\u001b[0;34m\u001b[0m\u001b[0m\n\u001b[1;32m     37\u001b[0m     \u001b[0mvideo\u001b[0m \u001b[0;34m=\u001b[0m \u001b[0mcv2\u001b[0m\u001b[0;34m.\u001b[0m\u001b[0mVideoCapture\u001b[0m\u001b[0;34m(\u001b[0m\u001b[0mvideo_port\u001b[0m\u001b[0;34m)\u001b[0m\u001b[0;34m\u001b[0m\u001b[0m\n\u001b[0;32m---> 38\u001b[0;31m     \u001b[0;32mwhile\u001b[0m \u001b[0mcv2\u001b[0m\u001b[0;34m.\u001b[0m\u001b[0mwaitKey\u001b[0m\u001b[0;34m(\u001b[0m\u001b[0;36m200\u001b[0m\u001b[0;34m)\u001b[0m \u001b[0;34m&\u001b[0m \u001b[0;36m0xFF\u001b[0m \u001b[0;34m!=\u001b[0m \u001b[0;36m27\u001b[0m\u001b[0;34m:\u001b[0m\u001b[0;34m\u001b[0m\u001b[0m\n\u001b[0m\u001b[1;32m     39\u001b[0m         \u001b[0mframe\u001b[0m \u001b[0;34m=\u001b[0m \u001b[0mvideo\u001b[0m\u001b[0;34m.\u001b[0m\u001b[0mread\u001b[0m\u001b[0;34m(\u001b[0m\u001b[0;34m)\u001b[0m\u001b[0;34m[\u001b[0m\u001b[0;36m1\u001b[0m\u001b[0;34m]\u001b[0m\u001b[0;34m\u001b[0m\u001b[0m\n\u001b[1;32m     40\u001b[0m         \u001b[0;32mif\u001b[0m \u001b[0mframe\u001b[0m \u001b[0;32mis\u001b[0m \u001b[0;32mnot\u001b[0m \u001b[0mNone\u001b[0m\u001b[0;34m:\u001b[0m\u001b[0;34m\u001b[0m\u001b[0m\n",
      "\u001b[0;31mKeyboardInterrupt\u001b[0m: "
     ]
    }
   ],
   "source": [
    "def show_object_contour(frame):\n",
    "    mask = mask_frame(frame, hsv_lower, hsv_upper)                  # calculates the mask\n",
    "    obj_contour = object_contour(mask)                              # finds the object contour\n",
    "    if obj_contour is not None:                                     # if the contour exists,\n",
    "        cv2.drawContours(frame, [obj_contour], -1, (0, 255, 0), 3)  # draws the contour\n",
    "    cv2.imshow('Object Contour', frame)\n",
    "\n",
    "video(show_object_contour)"
   ]
  },
  {
   "cell_type": "markdown",
   "metadata": {},
   "source": [
    "# Smallest Enclosing Circle"
   ]
  },
  {
   "cell_type": "markdown",
   "metadata": {},
   "source": [
    "<p style='font-size:1.75rem;line-height:1.5'>\n",
    "    The instructor-made functions <code>find_center(&lt;contour&gt;)</code> and <code>find_radius(&lt;contour&gt;)</code> find the <b style=\"color:green\">center coordinates</b> and <b style=\"color:green\">radius of the smallest circle</b> that fits around our object.\n",
    "    </p>\n",
    "\n",
    "<p style='font-size:1.75rem;line-height:1.5'>\n",
    "    <b style=\"color:red\">Exercise:</b>\n",
    "    <br> Using these functions, <b>draw a circle around the object</b>. \n",
    "    <br> Choose the <b>color</b> and <b>thickness</b> of the circle yourself!\n",
    "    </p>"
   ]
  },
  {
   "cell_type": "code",
   "execution_count": 8,
   "metadata": {},
   "outputs": [],
   "source": [
    "def draw_circle(frame, contour):\n",
    "    # TASK #1: Find and save the center using find_center\n",
    "    \n",
    "    center = find_center(contour)\n",
    "\n",
    "    # TASK #2: Find and save the radius using find_radius\n",
    "    \n",
    "    radius = find_radius(contour)\n",
    "    \n",
    "    # TASK #3: Draw a circle (on the frame) that encloses the object using cv2.circle\n",
    "    \n",
    "    cv2.circle(frame, center, radius, (255, 0, 0), 2)\n",
    "    "
   ]
  },
  {
   "cell_type": "markdown",
   "metadata": {},
   "source": [
    "<p style='font-size:1.75rem;line-height:1.5'>\n",
    "    <b style=\"color:red\">Run the code below</b> to see your circle drawn on the frame in real time!\n",
    "</p>\n",
    "\n",
    "<p style='font-size:1.75rem;line-height:1.5'>\n",
    "    It should look like this:\n",
    "</p>\n",
    "\n",
    "![circle](circle.png)"
   ]
  },
  {
   "cell_type": "code",
   "execution_count": 9,
   "metadata": {},
   "outputs": [
    {
     "ename": "KeyboardInterrupt",
     "evalue": "",
     "output_type": "error",
     "traceback": [
      "\u001b[0;31m---------------------------------------------------------------------------\u001b[0m",
      "\u001b[0;31mKeyboardInterrupt\u001b[0m                         Traceback (most recent call last)",
      "\u001b[0;32m<ipython-input-9-9e040b815534>\u001b[0m in \u001b[0;36m<module>\u001b[0;34m()\u001b[0m\n\u001b[1;32m      6\u001b[0m     \u001b[0mcv2\u001b[0m\u001b[0;34m.\u001b[0m\u001b[0mimshow\u001b[0m\u001b[0;34m(\u001b[0m\u001b[0;34m'Circle Tracking'\u001b[0m\u001b[0;34m,\u001b[0m \u001b[0mframe\u001b[0m\u001b[0;34m)\u001b[0m\u001b[0;34m\u001b[0m\u001b[0m\n\u001b[1;32m      7\u001b[0m \u001b[0;34m\u001b[0m\u001b[0m\n\u001b[0;32m----> 8\u001b[0;31m \u001b[0mvideo\u001b[0m\u001b[0;34m(\u001b[0m\u001b[0mdisplay_circle\u001b[0m\u001b[0;34m)\u001b[0m\u001b[0;34m\u001b[0m\u001b[0m\n\u001b[0m",
      "\u001b[0;32m/Users/adrita/Documents/Racecar_MIT_MS_Program/utils.pyc\u001b[0m in \u001b[0;36mvideo\u001b[0;34m(function)\u001b[0m\n\u001b[1;32m     37\u001b[0m     \u001b[0mvideo\u001b[0m \u001b[0;34m=\u001b[0m \u001b[0mcv2\u001b[0m\u001b[0;34m.\u001b[0m\u001b[0mVideoCapture\u001b[0m\u001b[0;34m(\u001b[0m\u001b[0mvideo_port\u001b[0m\u001b[0;34m)\u001b[0m\u001b[0;34m\u001b[0m\u001b[0m\n\u001b[1;32m     38\u001b[0m     \u001b[0;32mwhile\u001b[0m \u001b[0mcv2\u001b[0m\u001b[0;34m.\u001b[0m\u001b[0mwaitKey\u001b[0m\u001b[0;34m(\u001b[0m\u001b[0;36m200\u001b[0m\u001b[0;34m)\u001b[0m \u001b[0;34m&\u001b[0m \u001b[0;36m0xFF\u001b[0m \u001b[0;34m!=\u001b[0m \u001b[0;36m27\u001b[0m\u001b[0;34m:\u001b[0m\u001b[0;34m\u001b[0m\u001b[0m\n\u001b[0;32m---> 39\u001b[0;31m         \u001b[0mframe\u001b[0m \u001b[0;34m=\u001b[0m \u001b[0mvideo\u001b[0m\u001b[0;34m.\u001b[0m\u001b[0mread\u001b[0m\u001b[0;34m(\u001b[0m\u001b[0;34m)\u001b[0m\u001b[0;34m[\u001b[0m\u001b[0;36m1\u001b[0m\u001b[0;34m]\u001b[0m\u001b[0;34m\u001b[0m\u001b[0m\n\u001b[0m\u001b[1;32m     40\u001b[0m         \u001b[0;32mif\u001b[0m \u001b[0mframe\u001b[0m \u001b[0;32mis\u001b[0m \u001b[0;32mnot\u001b[0m \u001b[0mNone\u001b[0m\u001b[0;34m:\u001b[0m\u001b[0;34m\u001b[0m\u001b[0m\n\u001b[1;32m     41\u001b[0m             \u001b[0mframe\u001b[0m \u001b[0;34m=\u001b[0m \u001b[0mcv2\u001b[0m\u001b[0;34m.\u001b[0m\u001b[0mresize\u001b[0m\u001b[0;34m(\u001b[0m\u001b[0mframe\u001b[0m\u001b[0;34m,\u001b[0m \u001b[0;34m(\u001b[0m\u001b[0;36m640\u001b[0m\u001b[0;34m,\u001b[0m\u001b[0;36m480\u001b[0m\u001b[0;34m)\u001b[0m\u001b[0;34m)\u001b[0m  \u001b[0;31m# Uncomment this line if issues arise\u001b[0m\u001b[0;34m\u001b[0m\u001b[0m\n",
      "\u001b[0;31mKeyboardInterrupt\u001b[0m: "
     ]
    }
   ],
   "source": [
    "def display_circle(frame):\n",
    "    mask = mask_frame(frame, hsv_lower, hsv_upper)  # calculates the mask\n",
    "    contour = object_contour(mask)                  # find the object contour\n",
    "    if contour is not None:                         # if the contour exists\n",
    "        draw_circle(frame, contour)                 # draws circle around object\n",
    "    cv2.imshow('Circle Tracking', frame)\n",
    "\n",
    "video(display_circle)"
   ]
  },
  {
   "cell_type": "markdown",
   "metadata": {},
   "source": [
    "# Drawing with an Object"
   ]
  },
  {
   "cell_type": "markdown",
   "metadata": {},
   "source": [
    "<p style='font-size:1.75rem;line-height:1.5'>\n",
    "    In the <code>draw</code> function below, we will:\n",
    "    <ol style='font-size:1.75rem;line-height:2'>\n",
    "        <li><b style=\"color:green\">Draw a line</b> from the previous position of our object to the current position.</li>\n",
    "        <li><b style=\"color:green\">Save our lines</b> in a list.</li>\n",
    "        <li><b style=\"color:green\">Draw the saved lines</b> one EVERY frame (otherwise, they will disappear).</li>\n",
    "        <li><b style=\"color:green\">Save</b> the start coordinates, stop coordinates, and color of each line.</li>\n",
    "    </ol>\n",
    "    </p>\n",
    "\n",
    "<p style='font-size:1.75rem;line-height:1.5'>\n",
    "    <b style=\"color:red\">Exercise:</b>\n",
    "    <br> <b>Fill in the <code>draw</code> function</b> below to draw with your object!\n",
    "    </p>\n"
   ]
  },
  {
   "cell_type": "code",
   "execution_count": 10,
   "metadata": {},
   "outputs": [],
   "source": [
    "def draw(frame, contour, color, prev_pos):\n",
    "    prev_x = prev_pos[0]                # gets px from prev_pos\n",
    "    prev_y = prev_pos[1]                # gets py from prev_pos\n",
    "    drawing = prev_pos != [-1, -1]      # True if we are already drawing\n",
    "    \n",
    "    if contour is not None:\n",
    "        draw_circle(frame, contour)     # displays circle around object\n",
    "        \n",
    "        # TASK #1: Find and save the center coordinates using find_center\n",
    "        \n",
    "        center = find_center(contour)\n",
    "        \n",
    "        # TASK #2: The center is a tuple of the form (x, y)\n",
    "        # Use indexing to find and save x and y\n",
    "        \n",
    "        x = center[0]\n",
    "        y = center[1]\n",
    "        \n",
    "        # TASK #3: If we are already drawing (use an if statement)\n",
    "        \n",
    "        if drawing == True:\n",
    "        \n",
    "            # TASK #4: Append to lines list a tuple of: (previous coordinates, current coordinates, color)\n",
    "            # Hint: Use (prev_x,prev_y) for previous coords, (x,y) for current coords, and use the input color\n",
    "            # Hint: Assume \"lines\" is a given list\n",
    "            \n",
    "            lines.append(((prev_x,prev_y),(x,y),color))\n",
    "            \n",
    "            \n",
    "            # TASK #5: Update prev_x and prev_y\n",
    "            \n",
    "            prev_x = x\n",
    "            prev_y = y\n",
    "            \n",
    "            \n",
    "        # TASK #6: If we are not drawing (use an elif or else statement)\n",
    "        else:\n",
    "        \n",
    "            # TASK #7: Change the drawing variable\n",
    "            # Hint: If we see the object, should we be drawing or not drawing?\n",
    "            \n",
    "            drawing = True\n",
    "            \n",
    "            # TASK #8: Update prev_x and prev_y\n",
    "            \n",
    "            prev_x = x\n",
    "            prev_y = y\n",
    "             \n",
    "    else:\n",
    "        # TASK #9: Change the drawing variable\n",
    "        # Hint: if we no longer see the object, should we be drawing or not drawing?\n",
    "        drawing = False\n",
    "        \n",
    "        \n",
    "    # updates prev_pos based on drawing variable, prev_x, and prev_y\n",
    "    if drawing == False:\n",
    "        prev_pos[0] = -1\n",
    "        prev_pos[1] = -1\n",
    "    else:\n",
    "        prev_pos[0] = prev_x\n",
    "        prev_pos[1] = prev_y"
   ]
  },
  {
   "cell_type": "markdown",
   "metadata": {},
   "source": [
    "<p style='font-size:1.75rem;line-height:1.5'>\n",
    "    <b style=\"color:red\">Exercise:</b>\n",
    "    <br> In the function below, call <code>draw</code> on a <b>color of your choice</b>! \n",
    "    <br> Then <b>draw the lines</b> saved in <code>lines</code> onto the frame.\n",
    "    </p>"
   ]
  },
  {
   "cell_type": "code",
   "execution_count": 11,
   "metadata": {},
   "outputs": [],
   "source": [
    "lines = []           # stores the lines\n",
    "prev_pos = [-1, -1]  # stores previous position (starts in not already drawing state)\n",
    "\n",
    "def show_draw(frame):\n",
    "    mask = mask_frame(frame, hsv_lower, hsv_upper)   # calculates the mask\n",
    "    contour = object_contour(mask)                   # finds the object contour\n",
    "    \n",
    "    # TASK #1: Choose and save a color of your choice\n",
    "    \n",
    "    color = (245, 224, 39)\n",
    "    \n",
    "    draw(frame, contour, color, prev_pos)        # calls draw using chosen color\n",
    "    \n",
    "    for line in lines:\n",
    "        # TASK #2: Draw each line using the (previous position, current position, and color) we stored in \"line\"\n",
    "        # Choose the line thickness yourself! Use cv2.line and the line list.\n",
    "        \n",
    "        cv2.line(frame,line[0],line[1],line[2],5)\n",
    "        \n",
    "    cv2.imshow('Draw', frame)"
   ]
  },
  {
   "cell_type": "markdown",
   "metadata": {},
   "source": [
    "<p style='font-size:1.75rem;line-height:1.5'>\n",
    "    <b style=\"color:red\">Run the code below</b>. You should be able to draw on top of the video with your object!\n",
    "    <p>\n",
    "        \n",
    "<p style='font-size:1.75rem;line-height:1.5'>\n",
    "    It should look something like this:\n",
    "    <p>\n",
    "\n",
    "![draw](draw.png)"
   ]
  },
  {
   "cell_type": "code",
   "execution_count": 12,
   "metadata": {},
   "outputs": [
    {
     "ename": "KeyboardInterrupt",
     "evalue": "",
     "output_type": "error",
     "traceback": [
      "\u001b[0;31m---------------------------------------------------------------------------\u001b[0m",
      "\u001b[0;31mKeyboardInterrupt\u001b[0m                         Traceback (most recent call last)",
      "\u001b[0;32m<ipython-input-12-a62621784a50>\u001b[0m in \u001b[0;36m<module>\u001b[0;34m()\u001b[0m\n\u001b[1;32m      1\u001b[0m \u001b[0mlines\u001b[0m \u001b[0;34m=\u001b[0m \u001b[0;34m[\u001b[0m\u001b[0;34m]\u001b[0m        \u001b[0;31m# reset lines list\u001b[0m\u001b[0;34m\u001b[0m\u001b[0m\n\u001b[0;32m----> 2\u001b[0;31m \u001b[0mvideo\u001b[0m\u001b[0;34m(\u001b[0m\u001b[0mshow_draw\u001b[0m\u001b[0;34m)\u001b[0m\u001b[0;34m\u001b[0m\u001b[0m\n\u001b[0m",
      "\u001b[0;32m/Users/adrita/Documents/Racecar_MIT_MS_Program/utils.pyc\u001b[0m in \u001b[0;36mvideo\u001b[0;34m(function)\u001b[0m\n\u001b[1;32m     36\u001b[0m     \u001b[0;34m'''Displays video with modifiable frames.'''\u001b[0m\u001b[0;34m\u001b[0m\u001b[0m\n\u001b[1;32m     37\u001b[0m     \u001b[0mvideo\u001b[0m \u001b[0;34m=\u001b[0m \u001b[0mcv2\u001b[0m\u001b[0;34m.\u001b[0m\u001b[0mVideoCapture\u001b[0m\u001b[0;34m(\u001b[0m\u001b[0mvideo_port\u001b[0m\u001b[0;34m)\u001b[0m\u001b[0;34m\u001b[0m\u001b[0m\n\u001b[0;32m---> 38\u001b[0;31m     \u001b[0;32mwhile\u001b[0m \u001b[0mcv2\u001b[0m\u001b[0;34m.\u001b[0m\u001b[0mwaitKey\u001b[0m\u001b[0;34m(\u001b[0m\u001b[0;36m200\u001b[0m\u001b[0;34m)\u001b[0m \u001b[0;34m&\u001b[0m \u001b[0;36m0xFF\u001b[0m \u001b[0;34m!=\u001b[0m \u001b[0;36m27\u001b[0m\u001b[0;34m:\u001b[0m\u001b[0;34m\u001b[0m\u001b[0m\n\u001b[0m\u001b[1;32m     39\u001b[0m         \u001b[0mframe\u001b[0m \u001b[0;34m=\u001b[0m \u001b[0mvideo\u001b[0m\u001b[0;34m.\u001b[0m\u001b[0mread\u001b[0m\u001b[0;34m(\u001b[0m\u001b[0;34m)\u001b[0m\u001b[0;34m[\u001b[0m\u001b[0;36m1\u001b[0m\u001b[0;34m]\u001b[0m\u001b[0;34m\u001b[0m\u001b[0m\n\u001b[1;32m     40\u001b[0m         \u001b[0;32mif\u001b[0m \u001b[0mframe\u001b[0m \u001b[0;32mis\u001b[0m \u001b[0;32mnot\u001b[0m \u001b[0mNone\u001b[0m\u001b[0;34m:\u001b[0m\u001b[0;34m\u001b[0m\u001b[0m\n",
      "\u001b[0;31mKeyboardInterrupt\u001b[0m: "
     ]
    }
   ],
   "source": [
    "lines = []        # reset lines list\n",
    "video(show_draw)"
   ]
  },
  {
   "cell_type": "markdown",
   "metadata": {},
   "source": [
    "# BONUS: Drawing with Multiple Objects"
   ]
  },
  {
   "cell_type": "markdown",
   "metadata": {},
   "source": [
    "<p style='font-size:1.75rem;line-height:1.5'>\n",
    "    <b style=\"color:red\">Exercise:</b>\n",
    "    <br> To <b style=\"color:green\">draw with multiple objects</b>, we need to:\n",
    "    <ul style='font-size:1.75rem;line-height:2'>\n",
    "        <li><b>initialize <code>prev_pos</code></b></li>\n",
    "        <li><b>store the HSV limits</b> for each object.</li>\n",
    "    </ul>\n",
    "    </p>"
   ]
  },
  {
   "cell_type": "code",
   "execution_count": 13,
   "metadata": {},
   "outputs": [],
   "source": [
    "# TASK #1: Replace <color1> with name of first color\n",
    "red_prev_pos = [-1, -1]\n",
    "\n",
    "# TASK #2: Replace <h_min>, <s_min>, etc. with your values\n",
    "red_hsv_lower = np.array([0, 24, 143])\n",
    "red_hsv_upper = np.array([5, 213, 252])\n",
    "\n",
    "# TASK #3: Repeat TASKS #1 and #2 with EACH COLOR you are using\n",
    "\n",
    "green_prev_pos = [-1, -1]\n",
    "\n",
    "green_hsv_lower = np.array([45, 95, 19])\n",
    "green_hsv_upper = np.array([59, 242, 237])\n",
    "\n",
    "blue_prev_pos = [-1, -1]\n",
    "\n",
    "blue_hsv_lower = np.array([108, 92, 33])\n",
    "blue_hsv_upper = np.array([133, 203, 110])"
   ]
  },
  {
   "cell_type": "markdown",
   "metadata": {},
   "source": [
    "<p style='font-size:1.75rem;line-height:1.5'>\n",
    "    <b style=\"color:red\">Exercise:</b>\n",
    "    <br> Now we need to update <code>show_draw</code> to <b>include multiple colors</b>.\n",
    "    </p>"
   ]
  },
  {
   "cell_type": "code",
   "execution_count": 14,
   "metadata": {
    "scrolled": true
   },
   "outputs": [],
   "source": [
    "def show_draw(frame):\n",
    "    # TASK #1: Replace <color1> with your first color.\n",
    "    red_color = (0,0,255)\n",
    "    red_mask = mask_frame(frame, red_hsv_lower, red_hsv_upper)  # calculates the mask\n",
    "    red_contour = object_contour(red_mask)                           # finds the object contour\n",
    "    draw(frame, red_contour, red_color, red_prev_pos)           # calls draw for this color\n",
    "    \n",
    "    # TASK #2: Repeat TASK #1 with EACH COLOR you are using\n",
    "    green_color = (0,255,0)\n",
    "    green_mask = mask_frame(frame, green_hsv_lower, green_hsv_upper)  # calculates the mask\n",
    "    green_contour = object_contour(green_mask)                           # finds the object contour\n",
    "    draw(frame, green_contour, green_color, green_prev_pos) \n",
    "    \n",
    "    blue_color = (255,0,0)\n",
    "    blue_mask = mask_frame(frame, blue_hsv_lower, blue_hsv_upper)  # calculates the mask\n",
    "    blue_contour = object_contour(blue_mask)                           # finds the object contour\n",
    "    draw(frame, blue_contour, blue_color, blue_prev_pos) \n",
    "    \n",
    "    for line in lines:\n",
    "        # TASK #3: Draw each line using the (previous position, current position, and color) we stored in \"line\"\n",
    "        # Choose the line thickness yourself! Use cv2.line and the line list.\n",
    "        \n",
    "        cv2.line(frame,line[0],line[1],line[2],5)\n",
    "        \n",
    "    cv2.imshow('Multiple Draw', frame)"
   ]
  },
  {
   "cell_type": "markdown",
   "metadata": {},
   "source": [
    "<p style='font-size:1.75rem;line-height:1.5'>\n",
    "    <b style=\"color:red\">Run the code below</b>. Each object should now draw a different color!\n",
    "    <p>\n",
    "        \n",
    "<p style='font-size:1.75rem;line-height:1.5'>\n",
    "    It should look something like this:\n",
    "    <p>\n",
    "\n",
    "![multiple draw](multiple_draw.png)"
   ]
  },
  {
   "cell_type": "code",
   "execution_count": 15,
   "metadata": {
    "scrolled": true
   },
   "outputs": [
    {
     "ename": "KeyboardInterrupt",
     "evalue": "",
     "output_type": "error",
     "traceback": [
      "\u001b[0;31m---------------------------------------------------------------------------\u001b[0m",
      "\u001b[0;31mKeyboardInterrupt\u001b[0m                         Traceback (most recent call last)",
      "\u001b[0;32m<ipython-input-15-a62621784a50>\u001b[0m in \u001b[0;36m<module>\u001b[0;34m()\u001b[0m\n\u001b[1;32m      1\u001b[0m \u001b[0mlines\u001b[0m \u001b[0;34m=\u001b[0m \u001b[0;34m[\u001b[0m\u001b[0;34m]\u001b[0m        \u001b[0;31m# reset lines list\u001b[0m\u001b[0;34m\u001b[0m\u001b[0m\n\u001b[0;32m----> 2\u001b[0;31m \u001b[0mvideo\u001b[0m\u001b[0;34m(\u001b[0m\u001b[0mshow_draw\u001b[0m\u001b[0;34m)\u001b[0m\u001b[0;34m\u001b[0m\u001b[0m\n\u001b[0m",
      "\u001b[0;32m/Users/adrita/Documents/Racecar_MIT_MS_Program/utils.pyc\u001b[0m in \u001b[0;36mvideo\u001b[0;34m(function)\u001b[0m\n\u001b[1;32m     36\u001b[0m     \u001b[0;34m'''Displays video with modifiable frames.'''\u001b[0m\u001b[0;34m\u001b[0m\u001b[0m\n\u001b[1;32m     37\u001b[0m     \u001b[0mvideo\u001b[0m \u001b[0;34m=\u001b[0m \u001b[0mcv2\u001b[0m\u001b[0;34m.\u001b[0m\u001b[0mVideoCapture\u001b[0m\u001b[0;34m(\u001b[0m\u001b[0mvideo_port\u001b[0m\u001b[0;34m)\u001b[0m\u001b[0;34m\u001b[0m\u001b[0m\n\u001b[0;32m---> 38\u001b[0;31m     \u001b[0;32mwhile\u001b[0m \u001b[0mcv2\u001b[0m\u001b[0;34m.\u001b[0m\u001b[0mwaitKey\u001b[0m\u001b[0;34m(\u001b[0m\u001b[0;36m200\u001b[0m\u001b[0;34m)\u001b[0m \u001b[0;34m&\u001b[0m \u001b[0;36m0xFF\u001b[0m \u001b[0;34m!=\u001b[0m \u001b[0;36m27\u001b[0m\u001b[0;34m:\u001b[0m\u001b[0;34m\u001b[0m\u001b[0m\n\u001b[0m\u001b[1;32m     39\u001b[0m         \u001b[0mframe\u001b[0m \u001b[0;34m=\u001b[0m \u001b[0mvideo\u001b[0m\u001b[0;34m.\u001b[0m\u001b[0mread\u001b[0m\u001b[0;34m(\u001b[0m\u001b[0;34m)\u001b[0m\u001b[0;34m[\u001b[0m\u001b[0;36m1\u001b[0m\u001b[0;34m]\u001b[0m\u001b[0;34m\u001b[0m\u001b[0m\n\u001b[1;32m     40\u001b[0m         \u001b[0;32mif\u001b[0m \u001b[0mframe\u001b[0m \u001b[0;32mis\u001b[0m \u001b[0;32mnot\u001b[0m \u001b[0mNone\u001b[0m\u001b[0;34m:\u001b[0m\u001b[0;34m\u001b[0m\u001b[0m\n",
      "\u001b[0;31mKeyboardInterrupt\u001b[0m: "
     ]
    }
   ],
   "source": [
    "lines = []        # reset lines list\n",
    "video(show_draw)"
   ]
  },
  {
   "cell_type": "markdown",
   "metadata": {},
   "source": [
    "## Bonus Challenge Ideas!!!!!\n",
    "- Add more colors!!!!!\n",
    "\n",
    "### Make a mask for a color \"tool\" that, when introduced in frame, \n",
    "- switches/cycles through colors! So you can have one tool for multiple colors\n",
    "- stops the drawing so that you can reposition your paintbrush without covering it or moving it off the screen\n",
    "- changes your drawings from lines to shapes! (circles, rectangles)\n",
    "\n",
    "\n"
   ]
  }
 ],
 "metadata": {
  "@webio": {
   "lastCommId": null,
   "lastKernelId": null
  },
  "kernelspec": {
   "display_name": "Python 2",
   "language": "python",
   "name": "python2"
  },
  "language_info": {
   "codemirror_mode": {
    "name": "ipython",
    "version": 2
   },
   "file_extension": ".py",
   "mimetype": "text/x-python",
   "name": "python",
   "nbconvert_exporter": "python",
   "pygments_lexer": "ipython2",
   "version": "2.7.16"
  }
 },
 "nbformat": 4,
 "nbformat_minor": 2
}
