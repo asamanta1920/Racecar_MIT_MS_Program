{
 "cells": [
  {
   "cell_type": "code",
   "execution_count": 1,
   "metadata": {},
   "outputs": [],
   "source": [
    "# FIRST import all the necessary libraries and modules!\n",
    "import cv2               # import OpenCV\n",
    "import numpy as np       # import NumPy\n",
    "\n",
    "# import instructor made functions \n",
    "import sys\n",
    "sys.path.insert(0, '../..')\n",
    "from utils import *"
   ]
  },
  {
   "cell_type": "markdown",
   "metadata": {},
   "source": [
    "## Color Spaces\n",
    "\n",
    "<p style='font-size:1.75rem;line-height:1.5'>\n",
    "    In this lab, we will learn how to:\n",
    "    <ul style='font-size:1.75rem;line-height:2'>\n",
    "        <li>Convert an image between three color spaces (<b style=\"color:blue\">B</b><b style=\"color:green\">G</b><b style=\"color:red\">R</b>, <b style=\"color:#072F5F\">H</b><b style=\"color:#3895D3\">S</b><b style=\"color:#58CCED\">V</b>, and <b>Grayscale</b>) via <code>cv2.cvtColor</code>\n",
    "        </li>\n",
    "    </ul>\n",
    "</p>"
   ]
  },
  {
   "cell_type": "markdown",
   "metadata": {},
   "source": [
    "## BGR, HSV, and Grayscale\n",
    "    \n",
    "<p style='font-size:1.75rem;line-height:1.5'>\n",
    "    <b style=\"color:blue\">B</b><b style=\"color:green\">G</b><b style=\"color:red\">R</b>, or <b style=\"color:blue\">blue</b>, <b style=\"color:green\">green</b>, and <b style=\"color:red\">red</b> is the default color space in OpenCV\n",
    "    <br> These three values combined expresses the color in a <b>single pixel</b>!\n",
    "    </p>\n",
    "    \n",
    "![BGR](bgr.png)\n",
    "\n",
    "<p style='font-size:1.75rem;line-height:1.5'>\n",
    "    An <b style=\"color:#072F5F\">H</b><b style=\"color:#3895D3\">S</b><b style=\"color:#58CCED\">V</b> image is represented by <b style=\"color:#072F5F\">hue</b>, <b style=\"color:#3895D3\">saturation</b>, and <b style=\"color:#58CCED\">value</b>.\n",
    "    </p>\n",
    "    \n",
    "![HSV](hsv.png)\n",
    "\n",
    "<p style='font-size:1.75rem;line-height:1.5'>\n",
    "    A <b>grayscale image</b> is an image where the all the colors are only <b>shades of gray</b>. \n",
    "    </p>\n",
    "\n",
    "<img src=\"grayscale_cat.jpg\" alt=\"grayscale_cat\" style=\"width: 500px;\"/>\n",
    "\n",
    "<p style='font-size:1.75rem;line-height:1.5'>\n",
    "    We can <b style=\"color:green\">convert an image</b> between these <b style=\"color:blue\">three color spaces</b> using: <code>cv2.cvtColor</code>. \n",
    "    <br>It has the format:\n",
    "    </p>\n",
    "    \n",
    "```python\n",
    "img = cv2.cvtColor(<image>, <flag>)\n",
    "``` \n",
    "    \n",
    "<p style='font-size:1.75rem;line-height:1.5'>\n",
    "    The <b style=\"color:magenta\">flag</b> specifies which colorspace to convert between:\n",
    "    <ul style='font-size:1.75rem;line-height:2'>\n",
    "        <li><b style=\"color:blue\">B</b><b style=\"color:green\">G</b><b style=\"color:red\">R</b> -> <b>Gray</b>: <code>cv2.COLOR_BGR2GRAY</code> </li>\n",
    "        <li><b style=\"color:blue\">B</b><b style=\"color:green\">G</b><b style=\"color:red\">R</b> -> <b style=\"color:#072F5F\">H</b><b style=\"color:#3895D3\">S</b><b style=\"color:#58CCED\">V</b>: <code>cv2.COLOR_BGR2HSV</code></li>\n",
    "    </ul>\n",
    "    </p>"
   ]
  },
  {
   "cell_type": "markdown",
   "metadata": {},
   "source": [
    "## BGR to Grayscale\n",
    "\n",
    "<p style='font-size:1.75rem;line-height:1.5'>\n",
    "    This is a <b style=\"color:blue\">blue-footed booby</b>, a very cute and genetically interesting bird found in the Gálapagos Islands!\n",
    "    </p>\n",
    "    \n",
    "<img src=\"birdie.jpg\" alt=\"birdie\" style=\"width: 300px;\"/>\n",
    "\n",
    "<p style='font-size:1.75rem;line-height:1.5'>\n",
    "    <b style=\"color:red\">Exercise:</b>\n",
    "    <br>Convert the <code>birdie.jpg</code> image above to <b>Grayscale</b> by:\n",
    "    <ol style='font-size:1.75rem;line-height:2'>\n",
    "        <li>Reading the image.</li>\n",
    "        <li>Converting the image to <b>Grayscale</b>.</li>\n",
    "        <li>Showing the image in a popup window.</li>\n",
    "        <li>Closing the popup window via 'ESC' key</li>\n",
    "    </ol>\n",
    "    </p>\n",
    "\n",
    "<p style='font-size:1.75rem;line-height:1.5'>\n",
    "    <b>Hint!</b> Use the <code>cv2.imread</code>, <code>cv2.imshow</code>, <code>close_windows()</code> functions we learned from the previous labs!\n",
    "    </p>\n"
   ]
  },
  {
   "cell_type": "code",
   "execution_count": 2,
   "metadata": {},
   "outputs": [
    {
     "ename": "KeyboardInterrupt",
     "evalue": "",
     "output_type": "error",
     "traceback": [
      "\u001b[0;31m---------------------------------------------------------------------------\u001b[0m",
      "\u001b[0;31mKeyboardInterrupt\u001b[0m                         Traceback (most recent call last)",
      "\u001b[0;32m<ipython-input-2-32a61a3bdc1e>\u001b[0m in \u001b[0;36m<module>\u001b[0;34m()\u001b[0m\n\u001b[1;32m     13\u001b[0m \u001b[0;31m# TASK #4: Close the window\u001b[0m\u001b[0;34m\u001b[0m\u001b[0;34m\u001b[0m\u001b[0m\n\u001b[1;32m     14\u001b[0m \u001b[0;34m\u001b[0m\u001b[0m\n\u001b[0;32m---> 15\u001b[0;31m \u001b[0mclose_windows\u001b[0m\u001b[0;34m(\u001b[0m\u001b[0;34m)\u001b[0m\u001b[0;34m\u001b[0m\u001b[0m\n\u001b[0m",
      "\u001b[0;32m/Users/adrita/Documents/online-labs-master/utils.pyc\u001b[0m in \u001b[0;36mclose_windows\u001b[0;34m()\u001b[0m\n\u001b[1;32m     24\u001b[0m \u001b[0;32mdef\u001b[0m \u001b[0mclose_windows\u001b[0m\u001b[0;34m(\u001b[0m\u001b[0;34m)\u001b[0m\u001b[0;34m:\u001b[0m\u001b[0;34m\u001b[0m\u001b[0m\n\u001b[1;32m     25\u001b[0m     \u001b[0;34m'''Close popup window via 'ESC' key.'''\u001b[0m\u001b[0;34m\u001b[0m\u001b[0m\n\u001b[0;32m---> 26\u001b[0;31m     \u001b[0;32mwhile\u001b[0m \u001b[0mcv2\u001b[0m\u001b[0;34m.\u001b[0m\u001b[0mwaitKey\u001b[0m\u001b[0;34m(\u001b[0m\u001b[0;36m200\u001b[0m\u001b[0;34m)\u001b[0m \u001b[0;34m&\u001b[0m \u001b[0;36m0xFF\u001b[0m \u001b[0;34m!=\u001b[0m \u001b[0;36m27\u001b[0m\u001b[0;34m:\u001b[0m\u001b[0;34m\u001b[0m\u001b[0m\n\u001b[0m\u001b[1;32m     27\u001b[0m         \u001b[0;32mpass\u001b[0m\u001b[0;34m\u001b[0m\u001b[0m\n\u001b[1;32m     28\u001b[0m     \u001b[0mcv2\u001b[0m\u001b[0;34m.\u001b[0m\u001b[0mdestroyAllWindows\u001b[0m\u001b[0;34m(\u001b[0m\u001b[0;34m)\u001b[0m\u001b[0;34m\u001b[0m\u001b[0m\n",
      "\u001b[0;31mKeyboardInterrupt\u001b[0m: "
     ]
    }
   ],
   "source": [
    "# TASK #1: Read the image\n",
    "\n",
    "img = cv2.imread(\"birdie.jpg\")\n",
    "\n",
    "# TASK #2: Convert the image to Grayscale\n",
    "\n",
    "img1 = cv2.cvtColor(img, cv2.COLOR_BGR2GRAY)\n",
    "\n",
    "# TASK #3: Show the image in a popup window\n",
    "\n",
    "cv2.imshow('bird', img1)\n",
    "\n",
    "# TASK #4: Close the window\n",
    "\n",
    "close_windows()"
   ]
  },
  {
   "cell_type": "markdown",
   "metadata": {},
   "source": [
    "## BGR to HSV\n",
    "\n",
    "<p style='font-size:1.75rem;line-height:1.5'>\n",
    "    <b style=\"color:red\">Exercise:</b>\n",
    "    <br>Convert the <code>birdie.jpg</code> image to <b style=\"color:#072F5F\">H</b><b style=\"color:#3895D3\">S</b><b style=\"color:#58CCED\">V</b>.\n",
    "    </p>\n",
    "\n",
    "<p style='font-size:1.75rem;line-height:1.5'>\n",
    "    <b>Hint!</b> This is similar to the <b>Grayscale</b> example from above! \n",
    "    <br> Use the <code>cv2.imread</code>, <code>cv2.imshow</code>, <code>close_windows()</code> functions we learned from the previous labs!\n",
    "    </p>"
   ]
  },
  {
   "cell_type": "code",
   "execution_count": null,
   "metadata": {},
   "outputs": [],
   "source": [
    "# TASK #1: Read the image\n",
    "\n",
    "img2 = cv2.imread(\"birdie.jpg\")\n",
    "\n",
    "# TASK #2: Convert the image to Grayscale\n",
    "\n",
    "img3 = cv2.cvtColor(img2, cv2.COLOR_BGR2HSV)\n",
    "\n",
    "# TASK #3: Show the image in a popup window\n",
    "\n",
    "cv2.imshow('bird', img3)\n",
    "\n",
    "# TASK #4: Close the window\n",
    "\n",
    "close_windows()"
   ]
  },
  {
   "cell_type": "code",
   "execution_count": null,
   "metadata": {},
   "outputs": [],
   "source": []
  }
 ],
 "metadata": {
  "kernelspec": {
   "display_name": "Python 2",
   "language": "python",
   "name": "python2"
  },
  "language_info": {
   "codemirror_mode": {
    "name": "ipython",
    "version": 2
   },
   "file_extension": ".py",
   "mimetype": "text/x-python",
   "name": "python",
   "nbconvert_exporter": "python",
   "pygments_lexer": "ipython2",
   "version": "2.7.16"
  }
 },
 "nbformat": 4,
 "nbformat_minor": 2
}
